{
 "cells": [
  {
   "cell_type": "code",
   "execution_count": 1,
   "id": "18f622d3",
   "metadata": {},
   "outputs": [],
   "source": [
    "import numpy as np\n",
    "import astropy as ap\n",
    "import matplotlib.pyplot as plt"
   ]
  },
  {
   "cell_type": "code",
   "execution_count": 2,
   "id": "0ba2719a",
   "metadata": {},
   "outputs": [
    {
     "name": "stdout",
     "output_type": "stream",
     "text": [
      "[ 0.          1.41388891  3.29444449  5.24305562  8.1326389  10.82013894\n",
      " 14.71666668 19.75625008 25.13125005 32.38750009 40.44930566]\n"
     ]
    },
    {
     "data": {
      "image/png": "[encoded data removed]",
      "text/plain": [
       "<Figure size 432x288 with 1 Axes>"
      ]
     },
     "metadata": {
      "needs_background": "light"
     },
     "output_type": "display_data"
    }
   ],
   "source": [
    "data = np.loadtxt('Snapshots.txt',skiprows=1)\n",
    "\n",
    "sum_lil,npix_lil,sum_big,npix_big,time = data[:,0],data[:,1],data[:,2],data[:,3],data[:,4] # Data\n",
    "\n",
    "new_time = time - time[0]\n",
    "new_time = new_time[0:-1]\n",
    "print(new_time)\n",
    "\n",
    "torus = sum_big - sum_lil # Big circle flux minus small circle flux\n",
    "torus_pix = npix_big - npix_lil # Big circle pixels minus small circle pixels\n",
    "BG_per_pixel = torus / torus_pix # The background per pixel\n",
    "Cepheid_corrected = sum_lil - (BG_per_pixel*npix_lil) # The cepheid flux minus the background flux\n",
    "\n",
    "Cepheid_corrected = Cepheid_corrected[0:-1] # removing the final term because it has too big a time gap\n",
    "\n",
    "#22.57 = -2.5*np.log10(F) + c\n",
    "#c = 22.57 + 2.5*np.log10(F) # Calculating c for 1000 counts which gives us 22.57 apparent magnitude\n",
    "#m = -2.5*np.log10(F)+c # Apparent magnitude equation with constant c, F = counts\n",
    "#m\n",
    "#print(star)\n",
    "\n",
    "\n",
    "plt.scatter(new_time,Cepheid_corrected)\n",
    "#plt.scatter(time,np.log10(star))\n",
    "plt.ylabel('Counts')\n",
    "plt.xlabel('time (days)')\n",
    "plt.show()"
   ]
  },
  {
   "cell_type": "code",
   "execution_count": 10,
   "id": "bdd41ead",
   "metadata": {},
   "outputs": [
    {
     "name": "stdout",
     "output_type": "stream",
     "text": [
      "The apparent magnitudes of cepheid 1 are [25.3602023  24.32262449 24.31907246 24.5232521  24.76260409 25.27394472\n",
      " 25.22772842 25.74099606 24.71543657 25.46580046 26.12530889]\n",
      "\n",
      "The absolute magnitude of cepheid 1 is -4.781502889463474\n",
      "\n",
      "The distance to cepheid 1 is 9.692015843117979Mpc\n"
     ]
    },
    {
     "data": {
      "image/png": "[encoded data removed]",
      "text/plain": [
       "<Figure size 432x288 with 1 Axes>"
      ]
     },
     "metadata": {
      "needs_background": "light"
     },
     "output_type": "display_data"
    }
   ],
   "source": [
    "# Pipeline\n",
    "\n",
    "#Plot counts vs time (with background removed)\n",
    "#Find the period of the cepheid\n",
    "#Hubble SpaceTelescope Fine Guidance Sensor Parallaxes of Galactic Cepheid Variable Stars:  Period-Luminosity Relations\n",
    "#Use above paper for PLR\n",
    "#Use M =a+b*(logP-1) where a and b values correspond to filter \"V\", a=-4.05±0.02, b=-2.43±0.12\n",
    "# m - M = 5log(d/10)\n",
    "# d=10*10^(m-M/5)\n",
    "\n",
    "c = 22.57 + 2.5*np.log10(1000) # constant c is for 1000 counts which gives apparent magnitude 22.57\n",
    "m = -2.5*np.log10(Cepheid_corrected)+c # Apparent magnitude equation with constant c\n",
    "print(\"The apparent magnitudes of cepheid 1 are \" +str(m) + \"\\n\")\n",
    "\n",
    "plt.scatter(new_time,m)\n",
    "plt.xlabel('time')\n",
    "plt.ylabel('apparent magnitude')\n",
    "\n",
    "P = 20 # approx period in days\n",
    "\n",
    "M = -4.05 - 2.43*(np.log10(P)-1)\n",
    "print(\"The absolute magnitude of cepheid 1 is \" + str(M) + \"\\n\")\n",
    "\n",
    "# m - M = 5log(d/10)\n",
    "d = 10*10**((m-M)/5) # Rearranged for d (in pc)\n",
    "d = np.mean(d) # Mean\n",
    "\n",
    "\n",
    "#print(d) # In pc\n",
    "\n",
    "print(\"The distance to cepheid 1 is \" + str(d/1e6) + \"Mpc\") # In MPc"
   ]
  },
  {
   "cell_type": "code",
   "execution_count": null,
   "id": "6521176d",
   "metadata": {},
   "outputs": [],
   "source": []
  }
 ],
 "metadata": {
  "kernelspec": {
   "display_name": "Python 3 (ipykernel)",
   "language": "python",
   "name": "python3"
  },
  "language_info": {
   "codemirror_mode": {
    "name": "ipython",
    "version": 3
   },
   "file_extension": ".py",
   "mimetype": "text/x-python",
   "name": "python",
   "nbconvert_exporter": "python",
   "pygments_lexer": "ipython3",
   "version": "3.8.12"
  }
 },
 "nbformat": 4,
 "nbformat_minor": 5
}
